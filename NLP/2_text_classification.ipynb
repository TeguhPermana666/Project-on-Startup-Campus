{
  "cells": [
    {
      "cell_type": "markdown",
      "metadata": {
        "id": "mb-RlKEHsdJ8"
      },
      "source": [
        "# Import library"
      ]
    },
    {
      "cell_type": "code",
      "execution_count": null,
      "metadata": {
        "id": "FTSBz1vNsdKA"
      },
      "outputs": [],
      "source": [
        "import nltk\n",
        "from nltk import sent_tokenize, word_tokenize\n",
        "from nltk.corpus import stopwords\n",
        "from nltk.stem import WordNetLemmatizer"
      ]
    },
    {
      "cell_type": "markdown",
      "metadata": {
        "id": "nuxXWtHAsdKB"
      },
      "source": [
        "# Define the Posible text : Sport,Medical,Finance"
      ]
    },
    {
      "cell_type": "code",
      "execution_count": null,
      "metadata": {
        "id": "QcLsg00BsdKB",
        "outputId": "8e8053e1-3659-4964-f488-52d8b36213e0"
      },
      "outputs": [
        {
          "name": "stdout",
          "output_type": "stream",
          "text": [
            "{'help', 'break', 'sought', 'Sessegnon', 'span', 'surge', 'Account', 'sent', 'specifically', 'bottom', 'ticket', 'relegation-threatened', 'faster', 'deflected', 'eight', 'little', 'instead', 'HICS', 'compared', 'province', 'Fidelity', 'played', 'back', 'point', 'held', 'Harry', 'considered', 'Hospital', 'emergency', 'move', 'see', 'inpatient', 'pair', 'fired', 'second', 'Mohamed', 'management', 'In', 'towards', 'section', 'pay', 'twice', 'Ryan', 'Resolutions', 'decision', 'adheres', 'gift', 'suffered', 'action', 'Premier', 'checklist', '—', 'leadership', '-', 'new', 'process', '’', 'away', 'lead', 'post', '10', 'lot', 'Eric', 'season', 'describe', 'assessment', 'item', 'fourth-placed', 'waved', 'two', 'survey', 'field', 'job', 'Bentancur', '70', 'week', 'set', 'Sachs', 'onto', 'highest', 'sub', 'miscued', 'eighth', 'work', 'fast', 'toward', 'improve', 'Command', 'leaf', 'last', 'additional', 'consideration', 'This', 'structure', 'According', 'money', 'maintenance', 'Discussion', 'A', 'came', 'performance', 'room', 'house', 'already', 'Close', ':', 'Liverpool', 'race', 'staff', 'Kane', 'take', 'Performance', 'taking', 'communication', 'sheet', 'game', 'activated', 'bonus', 'mobile', 'Lastly', '$', 'reference', 'standard', 'hand', 'Klopp', 'receive', 'sharp', 'taken', 'woodwork', 'habit', 'Methods', 'Building', 'effort', 'intended', 'expense', 'role', 'account', 'automating', 'Financial', 'Salah', 'But', 'resource', 'pushing', 'need', 'ICS', 'big', 'Results', 'wedding', 'Online', 'position', 'capacity', 'build', 'win', '(', 'said', 'Isfahan', 'revised', 'Goldman', 'app', 'start', 'try', 'Marcus', 'If', 'director', 'high-yield', 'wanted', 'wide', 'Relying', 'automatic', 'London', 'There', 'header', 'thanks', 'know', 'vacation', 'save', 'procrastination', 'transferring', 'expensive', 'transfer', 'COVID-19', 'saving', 'Trent', 'month', ')', 'open-ended', 'finish', 'went', 'life', 'score', 'gotten', 'league', 'centre-back', 'close', 'traditional', 'occupying', 'another', 'Kulusevski', 'penalty', 'muscle', 'The', 'establishing', 'clung', '11', 'good', 'document', 'small', 'Having', 'League', 'based', 'outing', 'interest', 'control', 'use', 'enable', 'With', 'couple', 'without', 'Forest', 'make', 'seven', 'bank', 'like', 'even', 'manually', 'System', 'half', 'tool', 'spent', 'touch', 'within', 'planning', 'We', 'Nottingham', 'protection', 'come', 'You', 'better', 'patient', 'Spurs', 'consider', '40', 'goalkeeper', 'explore', 'lift', 'top-four', 'debt', 'looking', 'really', 'strike', '%', 'Jurgen', 'defeat', 'one-resolution', 'Tottenham', 'Starting', 'altogether', 'shout', 'year', 'bump', 'corner', 'chip', 'raced', 'north', 'early', ',', '43', 'want', 'implementation', 'Reds', 'egg', 'hospital', 'intermediate', 'respondent', 'likely', 'salary', 'onset', 'also', 'Dier', 'conducted', 'Savings', 'nest', 'handy', 'grow', 'pandemic', 'struck', 'current', 'opt', 'growing', 'ninth', 'number', 'event', 'increase', 'challenge', 'saw', 'Ivan', 'High-yield', 'interview', 'To', 'first', 'Leeds', 'goal', 'individual', 'in-form', 'Alisson', 'Financial/Administration', 'shock', 'started', 'organizational', 'usually', 'brilliant', 'moving', '.', 'expanding', 'Alexander-Arnold', 'popularity', 'glanced', 'long-standing', 'Dejan', 'time', 'Isabn-e-Maryam', 'Perisic', 'giving', 'Rodrigo', 'side', 'charge', 'late', 'desperately', 'may', 'minute', 'Incident', 'schedule', '2-1', 'way', 'used', 'home', 'Ally', 'manual'}\n",
            "['Liverpool held late charge Tottenham Mohamed Salah struck twice win 2-1 north London lift back Premier League top-four race . Jurgen Klopp side suffered shock defeat relegation-threatened pair Nottingham Forest Leeds last two league outing started fast Spurs , sharp touch finish bottom corner in-form Salah giving lead 11 minute . Ivan Perisic header deflected onto post Liverpool goalkeeper Alisson Ryan Sessegnon saw penalty shout challenge Trent Alexander-Arnold waved away Spurs came life - Reds struck break thanks gift Eric Dier . The centre-back miscued header towards goal Salah ( 40 ) raced chip ninth goal eight game . Tottenham sent early second half - first time season - better break , Alisson pushing Perisic effort onto woodwork Harry Kane ( 70 ) fired home brilliant strike played sub Dejan Kulusevski . Rodrigo Bentancur went close couple header Kane glanced wide Spurs desperately sought another late goal Liverpool clung first away win Premier League season move eighth within seven point fourth-placed Spurs , game hand .', 'There growing popularity Hospital Incident Command System ( HICS ) organizational tool hospital management COVID-19 pandemic . We specifically describe implementation HICS Isfahan province reference hospital ( Isabn-e-Maryam ) COVID-19 pandemic try explore performance . Methods : To document action taken COVID-19 pandemic , standard , open-ended interview conducted individual occupying activated HICS leadership position event . A checklist based job action sheet HICS used performance assessment . Results : With onset pandemic , hospital director revised ICS structure adheres span better control COVID-19 . Methods expanding hospital inpatient capacity enable surge capacity considered . The highest performance score field planning . Performance intermediate Financial/Administration section good field . Discussion : In current COVID-19 pandemic , establishing HICS consideration long-standing event help improve communication , resource use , staff patient protection , maintenance role .', 'According Fidelity ’ Financial Resolutions survey , saving money number one-resolution respondent . Close half ( 43 % ) said goal wanted work toward new year . Building nest egg help pay big ticket item — like house , vacation , wedding even expensive item really want — without taking additional debt . Having saving also come handy emergency expense come . If ’ looking increase saving new year , help start small — even ’ transferring $ 10 week saving account . Starting small help build muscle saving . This way , receive salary bump , bonus gift money , ’ already gotten habit saving , ’ likely transfer money saving account . You may also want consider automating process instead manually moving money saving . Relying manual transfer leaf lot room procrastination — know , ’ spent money intended save . But set automatic transfer saving account , take away need make decision altogether . You usually schedule automatic transfer bank ’ mobile app . Lastly , want see saving grow little faster , opt high-yield saving account instead traditional saving account . High-yield saving account — like Marcus Goldman Sachs Online Savings Account Ally Online Savings Account — pay interest month compared traditional saving account .']\n"
          ]
        }
      ],
      "source": [
        "# Three texts with labeled topic\n",
        "text_sport = \"Liverpool held off a late charge from Tottenham after Mohamed Salah struck twice to win 2-1 in north London and lift themselves back into the Premier League top-four race. Jurgen Klopp side had suffered shock defeats to relegation-threatened pair Nottingham Forest and Leeds in their last two league outings but started fast against Spurs, with a sharp touch and finish into the bottom corner from in-form Salah giving them the lead on 11 minutes. Ivan Perisic had a header deflected onto the post by Liverpool goalkeeper Alisson and Ryan Sessegnon saw a penalty shout from a challenge by Trent Alexander-Arnold waved away as Spurs came to life - but the Reds struck again just before the break thanks to a gift from Eric Dier. The centre-back miscued a header towards his own goal and Salah (40) raced through to chip in his ninth goal in eight games. Tottenham were sent out early for the second half and - not for the first time this season - were better after the break, with Alisson again pushing a Perisic effort onto the woodwork before Harry Kane (70) fired home a brilliant strike when played in by sub Dejan Kulusevski. Rodrigo Bentancur went close with a couple of headers and Kane glanced wide as Spurs desperately sought another late goal but Liverpool clung on for their first away win in the Premier League this season to move up to eighth and within seven points of fourth-placed Spurs, with a game in hand.\"\n",
        "text_medical = \"There is growing popularity of the Hospital Incident Command System (HICS) as an organizational tool for hospital management in the COVID-19 pandemic. We specifically describe implementation of HICS at the Isfahan province reference hospital (Isabn-e-Maryam) during the COVID-19 pandemic and try to explore performance of it. Methods: To document the actions taken during the COVID-19 pandemic, standard, open-ended interviews were conducted with individuals occupying activated HICS leadership positions during the event. A checklist based on the job action sheets of the HICS was used for performance assessment. Results: With the onset of the pandemic, hospital director revised ICS structure that adheres to span of better control of COVID-19. Methods of expanding hospital inpatient capacity to enable surge capacity were considered. The highest performance score was in the field of planning. Performance was intermediate in Financial/Administration section and good in other fields. Discussion: In the current COVID-19 pandemic, establishing HICS with some consideration about long-standing events can help improve communication, resource use, staff and patient protection, and maintenance of roles.\"\n",
        "text_finance = \"According to Fidelity’s Financial Resolutions survey, saving more money was the number one-resolution for respondents. Close to half (43%) said this was a goal they wanted to work toward in the new year. Building a nest egg can help you pay for big ticket items — like a house, a vacation, a wedding or even just an expensive item you really want — without taking on additional debt. Having savings can also come in handy if an emergency expense comes up. If you’re looking to increase your savings in the new year, it helps to start small — even if you’re only transferring $10 a week into your savings account. Starting small helps you build a muscle for saving. This way, when you receive salary bumps, bonuses and gift money, you’ve already gotten into the habit of saving, and you’ll be more likely to transfer that money to your savings account. You may also want to consider automating that process instead of just manually moving money into your savings. Relying on manual transfers leaves a lot of room for procrastination — and before we know it, we’ve spent the money we intended to save. But when you set up automatic transfers into your savings account, you take away the need to make that decision altogether. You can usually schedule automatic transfers through your bank’s mobile app. Lastly, if you want to see your savings grow just a little faster, you can opt for a high-yield savings account instead of a traditional savings account. High-yield savings accounts — like the Marcus by Goldman Sachs Online Savings Account or the Ally Online Savings Account — pay you more in interest each month compared to traditional savings accounts.\"\n",
        "\n",
        "texts = [text_sport, text_medical, text_finance]\n",
        "bow_keys = []\n",
        "corpus_texts = []\n",
        "# define instance object lemmatizer\n",
        "lemmatizer = WordNetLemmatizer()\n",
        "\n",
        "# Cleaned data labeled topic text\n",
        "for text in texts:\n",
        "    words  = word_tokenize(text)\n",
        "    texts = [lemmatizer.lemmatize(word) for word in words if word not in set(stopwords.words('english'))]\n",
        "    bow_keys += texts\n",
        "    text = ' '.join(texts)\n",
        "    corpus_texts.append(text)\n",
        "bow_keys = set(bow_keys)\n",
        "print(bow_keys)   #### Cleaned Data\n",
        "print(corpus_texts)   #### Cleaned Data"
      ]
    },
    {
      "cell_type": "code",
      "execution_count": null,
      "metadata": {
        "id": "xejSOpkgsdKD",
        "outputId": "b9ac37eb-7980-49b1-f20b-02a64e1fb222"
      },
      "outputs": [
        {
          "data": {
            "text/plain": [
              "{'$',\n",
              " '%',\n",
              " '(',\n",
              " ')',\n",
              " ',',\n",
              " '-',\n",
              " '.',\n",
              " '10',\n",
              " '11',\n",
              " '2-1',\n",
              " '40',\n",
              " '43',\n",
              " '70',\n",
              " ':',\n",
              " 'A',\n",
              " 'According',\n",
              " 'Account',\n",
              " 'Alexander-Arnold',\n",
              " 'Alisson',\n",
              " 'Ally',\n",
              " 'Bentancur',\n",
              " 'Building',\n",
              " 'But',\n",
              " 'COVID-19',\n",
              " 'Close',\n",
              " 'Command',\n",
              " 'Dejan',\n",
              " 'Dier',\n",
              " 'Discussion',\n",
              " 'Eric',\n",
              " 'Fidelity',\n",
              " 'Financial',\n",
              " 'Financial/Administration',\n",
              " 'Forest',\n",
              " 'Goldman',\n",
              " 'HICS',\n",
              " 'Harry',\n",
              " 'Having',\n",
              " 'High-yield',\n",
              " 'Hospital',\n",
              " 'ICS',\n",
              " 'If',\n",
              " 'In',\n",
              " 'Incident',\n",
              " 'Isabn-e-Maryam',\n",
              " 'Isfahan',\n",
              " 'Ivan',\n",
              " 'Jurgen',\n",
              " 'Kane',\n",
              " 'Klopp',\n",
              " 'Kulusevski',\n",
              " 'Lastly',\n",
              " 'League',\n",
              " 'Leeds',\n",
              " 'Liverpool',\n",
              " 'London',\n",
              " 'Marcus',\n",
              " 'Methods',\n",
              " 'Mohamed',\n",
              " 'Nottingham',\n",
              " 'Online',\n",
              " 'Performance',\n",
              " 'Perisic',\n",
              " 'Premier',\n",
              " 'Reds',\n",
              " 'Relying',\n",
              " 'Resolutions',\n",
              " 'Results',\n",
              " 'Rodrigo',\n",
              " 'Ryan',\n",
              " 'Sachs',\n",
              " 'Salah',\n",
              " 'Savings',\n",
              " 'Sessegnon',\n",
              " 'Spurs',\n",
              " 'Starting',\n",
              " 'System',\n",
              " 'The',\n",
              " 'There',\n",
              " 'This',\n",
              " 'To',\n",
              " 'Tottenham',\n",
              " 'Trent',\n",
              " 'We',\n",
              " 'With',\n",
              " 'You',\n",
              " 'account',\n",
              " 'action',\n",
              " 'activated',\n",
              " 'additional',\n",
              " 'adheres',\n",
              " 'already',\n",
              " 'also',\n",
              " 'altogether',\n",
              " 'another',\n",
              " 'app',\n",
              " 'assessment',\n",
              " 'automatic',\n",
              " 'automating',\n",
              " 'away',\n",
              " 'back',\n",
              " 'bank',\n",
              " 'based',\n",
              " 'better',\n",
              " 'big',\n",
              " 'bonus',\n",
              " 'bottom',\n",
              " 'break',\n",
              " 'brilliant',\n",
              " 'build',\n",
              " 'bump',\n",
              " 'came',\n",
              " 'capacity',\n",
              " 'centre-back',\n",
              " 'challenge',\n",
              " 'charge',\n",
              " 'checklist',\n",
              " 'chip',\n",
              " 'close',\n",
              " 'clung',\n",
              " 'come',\n",
              " 'communication',\n",
              " 'compared',\n",
              " 'conducted',\n",
              " 'consider',\n",
              " 'consideration',\n",
              " 'considered',\n",
              " 'control',\n",
              " 'corner',\n",
              " 'couple',\n",
              " 'current',\n",
              " 'debt',\n",
              " 'decision',\n",
              " 'defeat',\n",
              " 'deflected',\n",
              " 'describe',\n",
              " 'desperately',\n",
              " 'director',\n",
              " 'document',\n",
              " 'early',\n",
              " 'effort',\n",
              " 'egg',\n",
              " 'eight',\n",
              " 'eighth',\n",
              " 'emergency',\n",
              " 'enable',\n",
              " 'establishing',\n",
              " 'even',\n",
              " 'event',\n",
              " 'expanding',\n",
              " 'expense',\n",
              " 'expensive',\n",
              " 'explore',\n",
              " 'fast',\n",
              " 'faster',\n",
              " 'field',\n",
              " 'finish',\n",
              " 'fired',\n",
              " 'first',\n",
              " 'fourth-placed',\n",
              " 'game',\n",
              " 'gift',\n",
              " 'giving',\n",
              " 'glanced',\n",
              " 'goal',\n",
              " 'goalkeeper',\n",
              " 'good',\n",
              " 'gotten',\n",
              " 'grow',\n",
              " 'growing',\n",
              " 'habit',\n",
              " 'half',\n",
              " 'hand',\n",
              " 'handy',\n",
              " 'header',\n",
              " 'held',\n",
              " 'help',\n",
              " 'high-yield',\n",
              " 'highest',\n",
              " 'home',\n",
              " 'hospital',\n",
              " 'house',\n",
              " 'implementation',\n",
              " 'improve',\n",
              " 'in-form',\n",
              " 'increase',\n",
              " 'individual',\n",
              " 'inpatient',\n",
              " 'instead',\n",
              " 'intended',\n",
              " 'interest',\n",
              " 'intermediate',\n",
              " 'interview',\n",
              " 'item',\n",
              " 'job',\n",
              " 'know',\n",
              " 'last',\n",
              " 'late',\n",
              " 'lead',\n",
              " 'leadership',\n",
              " 'leaf',\n",
              " 'league',\n",
              " 'life',\n",
              " 'lift',\n",
              " 'like',\n",
              " 'likely',\n",
              " 'little',\n",
              " 'long-standing',\n",
              " 'looking',\n",
              " 'lot',\n",
              " 'maintenance',\n",
              " 'make',\n",
              " 'management',\n",
              " 'manual',\n",
              " 'manually',\n",
              " 'may',\n",
              " 'minute',\n",
              " 'miscued',\n",
              " 'mobile',\n",
              " 'money',\n",
              " 'month',\n",
              " 'move',\n",
              " 'moving',\n",
              " 'muscle',\n",
              " 'need',\n",
              " 'nest',\n",
              " 'new',\n",
              " 'ninth',\n",
              " 'north',\n",
              " 'number',\n",
              " 'occupying',\n",
              " 'one-resolution',\n",
              " 'onset',\n",
              " 'onto',\n",
              " 'open-ended',\n",
              " 'opt',\n",
              " 'organizational',\n",
              " 'outing',\n",
              " 'pair',\n",
              " 'pandemic',\n",
              " 'patient',\n",
              " 'pay',\n",
              " 'penalty',\n",
              " 'performance',\n",
              " 'planning',\n",
              " 'played',\n",
              " 'point',\n",
              " 'popularity',\n",
              " 'position',\n",
              " 'post',\n",
              " 'process',\n",
              " 'procrastination',\n",
              " 'protection',\n",
              " 'province',\n",
              " 'pushing',\n",
              " 'race',\n",
              " 'raced',\n",
              " 'really',\n",
              " 'receive',\n",
              " 'reference',\n",
              " 'relegation-threatened',\n",
              " 'resource',\n",
              " 'respondent',\n",
              " 'revised',\n",
              " 'role',\n",
              " 'room',\n",
              " 'said',\n",
              " 'salary',\n",
              " 'save',\n",
              " 'saving',\n",
              " 'saw',\n",
              " 'schedule',\n",
              " 'score',\n",
              " 'season',\n",
              " 'second',\n",
              " 'section',\n",
              " 'see',\n",
              " 'sent',\n",
              " 'set',\n",
              " 'seven',\n",
              " 'sharp',\n",
              " 'sheet',\n",
              " 'shock',\n",
              " 'shout',\n",
              " 'side',\n",
              " 'small',\n",
              " 'sought',\n",
              " 'span',\n",
              " 'specifically',\n",
              " 'spent',\n",
              " 'staff',\n",
              " 'standard',\n",
              " 'start',\n",
              " 'started',\n",
              " 'strike',\n",
              " 'struck',\n",
              " 'structure',\n",
              " 'sub',\n",
              " 'suffered',\n",
              " 'surge',\n",
              " 'survey',\n",
              " 'take',\n",
              " 'taken',\n",
              " 'taking',\n",
              " 'thanks',\n",
              " 'ticket',\n",
              " 'time',\n",
              " 'tool',\n",
              " 'top-four',\n",
              " 'touch',\n",
              " 'toward',\n",
              " 'towards',\n",
              " 'traditional',\n",
              " 'transfer',\n",
              " 'transferring',\n",
              " 'try',\n",
              " 'twice',\n",
              " 'two',\n",
              " 'use',\n",
              " 'used',\n",
              " 'usually',\n",
              " 'vacation',\n",
              " 'want',\n",
              " 'wanted',\n",
              " 'waved',\n",
              " 'way',\n",
              " 'wedding',\n",
              " 'week',\n",
              " 'went',\n",
              " 'wide',\n",
              " 'win',\n",
              " 'within',\n",
              " 'without',\n",
              " 'woodwork',\n",
              " 'work',\n",
              " 'year',\n",
              " '—',\n",
              " '’'}"
            ]
          },
          "execution_count": 3,
          "metadata": {},
          "output_type": "execute_result"
        }
      ],
      "source": [
        "# key of train labeling classify text\n",
        "bow_keys"
      ]
    },
    {
      "cell_type": "markdown",
      "metadata": {
        "id": "fSG04hWWsdKE"
      },
      "source": [
        "# Classify this text to the correct topic:"
      ]
    },
    {
      "cell_type": "code",
      "execution_count": null,
      "metadata": {
        "id": "m3yewPTHsdKE"
      },
      "outputs": [],
      "source": [
        "# text testing\n",
        "query_texts = \"Cristiano Ronaldo came off the bench to earn Manchester United a hard-fought 2-1 victory at Everton in the Premier League on Sunday, taking his career goal tally to 700 in the process. Just as United did last weekend in their derby mauling at the hands of local rivals Manchester City, they again found themselves behind early on at Goodison Park after Alex Iwobi curled a sublime strike into the net from 20 metres.\"\n",
        "# tokenize\n",
        "query_words = word_tokenize(query_texts)\n",
        "# lemmatize\n",
        "query_words_clean = [lemmatizer.lemmatize(word) for word in query_words if word not in set(stopwords.words(\"english\"))]\n",
        "# check cleaned data to bow keys from data labbeling\n",
        "query_words_corpus = [word for word in query_words_clean if word in set(bow_keys)]\n",
        "# format to text\n",
        "query_text_corpus = ' '.join(query_words_corpus)\n",
        "# append to corpus labeling data\n",
        "corpus_texts.append(query_text_corpus)"
      ]
    },
    {
      "cell_type": "code",
      "execution_count": null,
      "metadata": {
        "id": "m0AKrLNlsdKF",
        "outputId": "f195bbf3-86da-4467-bd0d-62dc92d3c608"
      },
      "outputs": [
        {
          "data": {
            "text/plain": [
              "['Cristiano',\n",
              " 'Ronaldo',\n",
              " 'came',\n",
              " 'bench',\n",
              " 'earn',\n",
              " 'Manchester',\n",
              " 'United',\n",
              " 'hard-fought',\n",
              " '2-1',\n",
              " 'victory',\n",
              " 'Everton',\n",
              " 'Premier',\n",
              " 'League',\n",
              " 'Sunday',\n",
              " ',',\n",
              " 'taking',\n",
              " 'career',\n",
              " 'goal',\n",
              " 'tally',\n",
              " '700',\n",
              " 'process',\n",
              " '.',\n",
              " 'Just',\n",
              " 'United',\n",
              " 'last',\n",
              " 'weekend',\n",
              " 'derby',\n",
              " 'mauling',\n",
              " 'hand',\n",
              " 'local',\n",
              " 'rival',\n",
              " 'Manchester',\n",
              " 'City',\n",
              " ',',\n",
              " 'found',\n",
              " 'behind',\n",
              " 'early',\n",
              " 'Goodison',\n",
              " 'Park',\n",
              " 'Alex',\n",
              " 'Iwobi',\n",
              " 'curled',\n",
              " 'sublime',\n",
              " 'strike',\n",
              " 'net',\n",
              " '20',\n",
              " 'metre',\n",
              " '.']"
            ]
          },
          "execution_count": 5,
          "metadata": {},
          "output_type": "execute_result"
        }
      ],
      "source": [
        "query_words_clean"
      ]
    },
    {
      "cell_type": "code",
      "execution_count": null,
      "metadata": {
        "id": "dufPU5rMsdKF",
        "outputId": "a7f69ec9-e500-4b3f-bd98-cd8a9eb9ed0e"
      },
      "outputs": [
        {
          "data": {
            "text/plain": [
              "'came 2-1 Premier League , taking goal process . last hand , early strike .'"
            ]
          },
          "execution_count": 6,
          "metadata": {},
          "output_type": "execute_result"
        }
      ],
      "source": [
        "query_text_corpus"
      ]
    },
    {
      "cell_type": "code",
      "execution_count": null,
      "metadata": {
        "id": "4F88I50XsdKG",
        "outputId": "36919391-531f-485d-d153-7e4afbb8fee1"
      },
      "outputs": [
        {
          "data": {
            "text/plain": [
              "['Liverpool held late charge Tottenham Mohamed Salah struck twice win 2-1 north London lift back Premier League top-four race . Jurgen Klopp side suffered shock defeat relegation-threatened pair Nottingham Forest Leeds last two league outing started fast Spurs , sharp touch finish bottom corner in-form Salah giving lead 11 minute . Ivan Perisic header deflected onto post Liverpool goalkeeper Alisson Ryan Sessegnon saw penalty shout challenge Trent Alexander-Arnold waved away Spurs came life - Reds struck break thanks gift Eric Dier . The centre-back miscued header towards goal Salah ( 40 ) raced chip ninth goal eight game . Tottenham sent early second half - first time season - better break , Alisson pushing Perisic effort onto woodwork Harry Kane ( 70 ) fired home brilliant strike played sub Dejan Kulusevski . Rodrigo Bentancur went close couple header Kane glanced wide Spurs desperately sought another late goal Liverpool clung first away win Premier League season move eighth within seven point fourth-placed Spurs , game hand .',\n",
              " 'There growing popularity Hospital Incident Command System ( HICS ) organizational tool hospital management COVID-19 pandemic . We specifically describe implementation HICS Isfahan province reference hospital ( Isabn-e-Maryam ) COVID-19 pandemic try explore performance . Methods : To document action taken COVID-19 pandemic , standard , open-ended interview conducted individual occupying activated HICS leadership position event . A checklist based job action sheet HICS used performance assessment . Results : With onset pandemic , hospital director revised ICS structure adheres span better control COVID-19 . Methods expanding hospital inpatient capacity enable surge capacity considered . The highest performance score field planning . Performance intermediate Financial/Administration section good field . Discussion : In current COVID-19 pandemic , establishing HICS consideration long-standing event help improve communication , resource use , staff patient protection , maintenance role .',\n",
              " 'According Fidelity ’ Financial Resolutions survey , saving money number one-resolution respondent . Close half ( 43 % ) said goal wanted work toward new year . Building nest egg help pay big ticket item — like house , vacation , wedding even expensive item really want — without taking additional debt . Having saving also come handy emergency expense come . If ’ looking increase saving new year , help start small — even ’ transferring $ 10 week saving account . Starting small help build muscle saving . This way , receive salary bump , bonus gift money , ’ already gotten habit saving , ’ likely transfer money saving account . You may also want consider automating process instead manually moving money saving . Relying manual transfer leaf lot room procrastination — know , ’ spent money intended save . But set automatic transfer saving account , take away need make decision altogether . You usually schedule automatic transfer bank ’ mobile app . Lastly , want see saving grow little faster , opt high-yield saving account instead traditional saving account . High-yield saving account — like Marcus Goldman Sachs Online Savings Account Ally Online Savings Account — pay interest month compared traditional saving account .',\n",
              " 'came 2-1 Premier League , taking goal process . last hand , early strike .']"
            ]
          },
          "execution_count": 7,
          "metadata": {},
          "output_type": "execute_result"
        }
      ],
      "source": [
        "corpus_texts"
      ]
    },
    {
      "cell_type": "markdown",
      "metadata": {
        "id": "2SuhVYIOsdKG"
      },
      "source": [
        "# Bag Of Words"
      ]
    },
    {
      "cell_type": "code",
      "execution_count": null,
      "metadata": {
        "id": "5Zscj2aOsdKH",
        "outputId": "e1486680-e493-4393-948c-78eae17fd4d3"
      },
      "outputs": [
        {
          "name": "stdout",
          "output_type": "stream",
          "text": [
            "[[0 1 0 ... 0 0 0]\n",
            " [0 0 5 ... 0 0 0]\n",
            " [1 0 0 ... 2 2 2]\n",
            " [0 0 0 ... 0 0 0]]\n",
            "330\n"
          ]
        }
      ],
      "source": [
        "from sklearn.feature_extraction.text import CountVectorizer\n",
        "cv = CountVectorizer() ## Creating Object for CountVectorizer\n",
        "bow_vectors = cv.fit_transform(corpus_texts).toarray()\n",
        "print(bow_vectors)\n",
        "print(len(bow_vectors[0]))"
      ]
    },
    {
      "cell_type": "markdown",
      "metadata": {
        "id": "1cOO_LAJsdKH"
      },
      "source": [
        "### Normalize thw Bow vector"
      ]
    },
    {
      "cell_type": "code",
      "execution_count": null,
      "metadata": {
        "id": "vyYw5K9UsdKH"
      },
      "outputs": [],
      "source": [
        "# Normalize the BoW vectors\n",
        "bow_texts_norm = []\n",
        "for bow in bow_vectors:\n",
        "  length = (sum(i*i for i in bow)) ** 0.5\n",
        "  bow_norm = bow / length\n",
        "  bow_texts_norm.append(bow_norm)"
      ]
    },
    {
      "cell_type": "code",
      "execution_count": null,
      "metadata": {
        "id": "iDK78XjZsdKI",
        "outputId": "400a1fce-f515-499c-b098-7f985209343d"
      },
      "outputs": [
        {
          "data": {
            "text/plain": [
              "array([0.        , 0.        , 0.        , 0.        , 0.        ,\n",
              "       0.        , 0.        , 0.        , 0.        , 0.        ,\n",
              "       0.        , 0.        , 0.        , 0.        , 0.        ,\n",
              "       0.        , 0.        , 0.        , 0.        , 0.        ,\n",
              "       0.        , 0.        , 0.        , 0.        , 0.        ,\n",
              "       0.        , 0.        , 0.        , 0.        , 0.        ,\n",
              "       0.        , 0.        , 0.        , 0.        , 0.        ,\n",
              "       0.        , 0.        , 0.        , 0.        , 0.        ,\n",
              "       0.31622777, 0.        , 0.        , 0.        , 0.        ,\n",
              "       0.        , 0.        , 0.        , 0.        , 0.        ,\n",
              "       0.        , 0.        , 0.        , 0.        , 0.        ,\n",
              "       0.        , 0.        , 0.        , 0.        , 0.        ,\n",
              "       0.        , 0.        , 0.        , 0.        , 0.        ,\n",
              "       0.        , 0.        , 0.        , 0.        , 0.        ,\n",
              "       0.        , 0.        , 0.        , 0.31622777, 0.        ,\n",
              "       0.        , 0.        , 0.        , 0.        , 0.        ,\n",
              "       0.        , 0.        , 0.        , 0.        , 0.        ,\n",
              "       0.        , 0.        , 0.        , 0.        , 0.        ,\n",
              "       0.        , 0.        , 0.        , 0.        , 0.        ,\n",
              "       0.        , 0.        , 0.        , 0.        , 0.        ,\n",
              "       0.        , 0.        , 0.        , 0.        , 0.        ,\n",
              "       0.31622777, 0.        , 0.        , 0.        , 0.        ,\n",
              "       0.        , 0.        , 0.        , 0.        , 0.31622777,\n",
              "       0.        , 0.        , 0.        , 0.        , 0.        ,\n",
              "       0.        , 0.        , 0.        , 0.        , 0.        ,\n",
              "       0.        , 0.        , 0.        , 0.        , 0.        ,\n",
              "       0.        , 0.        , 0.        , 0.        , 0.        ,\n",
              "       0.        , 0.        , 0.        , 0.        , 0.        ,\n",
              "       0.        , 0.        , 0.        , 0.        , 0.        ,\n",
              "       0.        , 0.        , 0.        , 0.        , 0.        ,\n",
              "       0.        , 0.31622777, 0.        , 0.        , 0.        ,\n",
              "       0.        , 0.        , 0.31622777, 0.        , 0.        ,\n",
              "       0.        , 0.        , 0.        , 0.        , 0.        ,\n",
              "       0.        , 0.        , 0.        , 0.        , 0.        ,\n",
              "       0.        , 0.        , 0.        , 0.        , 0.        ,\n",
              "       0.        , 0.        , 0.        , 0.        , 0.        ,\n",
              "       0.        , 0.        , 0.        , 0.        , 0.        ,\n",
              "       0.        , 0.        , 0.        , 0.        , 0.        ,\n",
              "       0.        , 0.        , 0.        , 0.        , 0.        ,\n",
              "       0.        , 0.        , 0.        , 0.        , 0.        ,\n",
              "       0.        , 0.        , 0.        , 0.        , 0.        ,\n",
              "       0.        , 0.        , 0.        , 0.        , 0.        ,\n",
              "       0.        , 0.        , 0.        , 0.        , 0.        ,\n",
              "       0.        , 0.        , 0.31622777, 0.31622777, 0.        ,\n",
              "       0.        , 0.        , 0.        , 0.        , 0.        ,\n",
              "       0.        , 0.        , 0.        , 0.        , 0.        ,\n",
              "       0.        , 0.        , 0.        , 0.        , 0.        ,\n",
              "       0.        , 0.        , 0.        , 0.        , 0.        ,\n",
              "       0.        , 0.        , 0.        , 0.        , 0.        ,\n",
              "       0.        , 0.        , 0.        , 0.        , 0.        ,\n",
              "       0.        , 0.        , 0.        , 0.        , 0.        ,\n",
              "       0.        , 0.        , 0.        , 0.        , 0.        ,\n",
              "       0.        , 0.        , 0.        , 0.        , 0.        ,\n",
              "       0.        , 0.        , 0.        , 0.        , 0.        ,\n",
              "       0.        , 0.        , 0.        , 0.        , 0.        ,\n",
              "       0.        , 0.31622777, 0.        , 0.        , 0.        ,\n",
              "       0.        , 0.        , 0.        , 0.        , 0.        ,\n",
              "       0.        , 0.31622777, 0.        , 0.        , 0.        ,\n",
              "       0.        , 0.        , 0.        , 0.        , 0.        ,\n",
              "       0.        , 0.        , 0.        , 0.        , 0.        ,\n",
              "       0.        , 0.        , 0.        , 0.        , 0.        ,\n",
              "       0.        , 0.        , 0.        , 0.        , 0.        ,\n",
              "       0.        , 0.        , 0.        , 0.        , 0.        ,\n",
              "       0.        , 0.        , 0.        , 0.        , 0.        ,\n",
              "       0.        , 0.        , 0.        , 0.        , 0.        ,\n",
              "       0.        , 0.        , 0.        , 0.        , 0.        ])"
            ]
          },
          "execution_count": 10,
          "metadata": {},
          "output_type": "execute_result"
        }
      ],
      "source": [
        "# vectorized form texts testing\n",
        "bow_texts_norm[3]"
      ]
    },
    {
      "cell_type": "code",
      "execution_count": null,
      "metadata": {
        "id": "74ELZK25sdKI",
        "outputId": "90566339-1143-4a21-96a5-db99bcc2042b"
      },
      "outputs": [
        {
          "name": "stdout",
          "output_type": "stream",
          "text": [
            "[0.2728540621047238, 0.0, 0.04234180777032276]\n",
            "The query text is classified as: Sport\n"
          ]
        }
      ],
      "source": [
        "# Compute similarity using dot product\n",
        "similarity_vector = []\n",
        "bow_norm_query = bow_texts_norm[3] # the testing data\n",
        "for bow in bow_texts_norm[:3]:\n",
        "  similarity_vector.append(sum(i*j for i,j in zip(bow,bow_norm_query)))\n",
        "print(similarity_vector)\n",
        "\n",
        "# Find the highest similarity\n",
        "id_max_sim = similarity_vector.index(max(similarity_vector))\n",
        "if (id_max_sim == 0):\n",
        "  print (\"The query text is classified as: Sport\")\n",
        "elif (id_max_sim == 1):\n",
        "  print (\"The query text is classified as: Medical\")\n",
        "elif (id_max_sim == 2):\n",
        "  print (\"The query text is classified as: Finance\")"
      ]
    }
  ],
  "metadata": {
    "kernelspec": {
      "display_name": "Python 3.9.9 ('env': venv)",
      "language": "python",
      "name": "python3"
    },
    "language_info": {
      "codemirror_mode": {
        "name": "ipython",
        "version": 3
      },
      "file_extension": ".py",
      "mimetype": "text/x-python",
      "name": "python",
      "nbconvert_exporter": "python",
      "pygments_lexer": "ipython3",
      "version": "3.9.9"
    },
    "orig_nbformat": 4,
    "vscode": {
      "interpreter": {
        "hash": "dd0ac7f2d0351ecf5e1201c07d99bf0c601f30a2469c809f8f4a8084bdcf96b7"
      }
    },
    "colab": {
      "provenance": []
    }
  },
  "nbformat": 4,
  "nbformat_minor": 0
}