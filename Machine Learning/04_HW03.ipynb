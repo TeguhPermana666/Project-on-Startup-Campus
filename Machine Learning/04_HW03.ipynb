{
  "cells": [
    {
      "cell_type": "markdown",
      "metadata": {
        "id": "W6XCEwAWqUGN"
      },
      "source": [
        "# Set Up Env"
      ]
    },
    {
      "cell_type": "code",
      "execution_count": null,
      "metadata": {
        "id": "6RivMy67qUGO",
        "outputId": "cb0da24e-65fa-4509-8e7c-24e6e04f12df"
      },
      "outputs": [
        {
          "name": "stderr",
          "output_type": "stream",
          "text": [
            "d:\\MBKM\\Start up campus\\ML\\env\\lib\\site-packages\\tqdm\\auto.py:22: TqdmWarning: IProgress not found. Please update jupyter and ipywidgets. See https://ipywidgets.readthedocs.io/en/stable/user_install.html\n",
            "  from .autonotebook import tqdm as notebook_tqdm\n"
          ]
        }
      ],
      "source": [
        "import torch\n",
        "import tqdm as notebook_tqdm\n",
        "import torchvision\n",
        "import matplotlib.pyplot as plt\n",
        "import numpy as np # linear algebra\n",
        "import pandas as pd # data processing, CSV file I/O (e.g. pd.read_csv)\n",
        "import matplotlib.pyplot as plt # for plotting beautiful graphs\n",
        "\n",
        "# train test split from sklearn\n",
        "from sklearn.model_selection import train_test_split\n",
        "\n",
        "# Import Torch \n",
        "import torch\n",
        "import torch.nn as nn\n",
        "from torchvision import transforms, models\n",
        "from torch.autograd import Variable\n",
        "from torch import nn, optim\n",
        "import torch.nn.functional as F\n",
        "import os\n",
        "# print(os.listdir(\"./dataset\"))"
      ]
    },
    {
      "cell_type": "code",
      "execution_count": null,
      "metadata": {
        "id": "J00yzEgGqUGP",
        "outputId": "6dc5d61e-9a55-4fda-9b26-6f4dc38cfb2f"
      },
      "outputs": [
        {
          "name": "stdout",
          "output_type": "stream",
          "text": [
            "device :  cpu\n"
          ]
        }
      ],
      "source": [
        "if torch.cuda.is_available():\n",
        "    device = torch.device(\"cuda\")\n",
        "else:\n",
        "    device = torch.device(\"cpu\")\n",
        "print(\"device : \",device)"
      ]
    },
    {
      "cell_type": "markdown",
      "metadata": {
        "id": "repeFYUhqUGQ"
      },
      "source": [
        "# Load data"
      ]
    },
    {
      "cell_type": "code",
      "execution_count": null,
      "metadata": {
        "id": "7flEX5vGqUGQ"
      },
      "outputs": [],
      "source": [
        "# initializer shape\n",
        "input_size=784   #28X28 pixel of image\n",
        "hidden_size1=200 #size of 1st hidden layer(number of perceptron)\n",
        "hidden_size2=150 #size of second hidden layer\n",
        "hidden_size3=100 #size of third hidden layer\n",
        "hidden_size=80   #size of fourth hidden layer\n",
        "output =10       #output layer\n",
        "batch_size=100"
      ]
    },
    {
      "cell_type": "code",
      "execution_count": null,
      "metadata": {
        "id": "fnwGK9lOqUGQ"
      },
      "outputs": [],
      "source": [
        "train_dataset=torchvision.datasets.MNIST('/dataset',train=True,\n",
        "                                         transform=transforms.ToTensor(),\n",
        "                                         download=True)\n",
        "test_dataset=torchvision.datasets.MNIST('/dataset',train=False,     \n",
        "              transform=transforms.ToTensor(),\n",
        "              download=False)\n",
        "#data loaders\n",
        "train_loader = torch.utils.data.DataLoader(train_dataset,\n",
        "                                           batch_size=batch_size, \n",
        "                                           shuffle=True)\n",
        "test_loader = torch.utils.data.DataLoader(test_dataset,\n",
        "                                          batch_size=batch_size, \n",
        "                                          shuffle=True)"
      ]
    },
    {
      "cell_type": "markdown",
      "metadata": {
        "id": "1uTobvrOqUGQ"
      },
      "source": [
        "# Visualize several mnist dataset"
      ]
    },
    {
      "cell_type": "code",
      "execution_count": null,
      "metadata": {
        "id": "lCHPxzNaqUGR"
      },
      "outputs": [],
      "source": [
        "def visualize_image(data,pred=False, val=0):\n",
        "    plt.imshow(data.reshape(28,28),cmap=\"gray\",interpolation=\"none\")\n",
        "    plt.axis(\"off\")\n",
        "    plt.title(\"Handwritten Digit Image\")\n",
        "    plt.show()"
      ]
    },
    {
      "cell_type": "code",
      "execution_count": null,
      "metadata": {
        "id": "AGUYa-XDqUGR",
        "outputId": "9b575540-b299-4c97-d033-af985d94433a"
      },
      "outputs": [
        {
          "data": {
            "image/png": "[encoded data removed]",
            "text/plain": [
              "<Figure size 640x480 with 1 Axes>"
            ]
          },
          "metadata": {},
          "output_type": "display_data"
        },
        {
          "name": "stdout",
          "output_type": "stream",
          "text": [
            "label:tensor(8)\n"
          ]
        }
      ],
      "source": [
        "_, (example_datas, labels) = next(enumerate(test_loader))\n",
        "sample = example_datas[0][0]\n",
        "visualize_image(sample)\n",
        "print(\"label:\"+str(labels[0]))"
      ]
    },
    {
      "cell_type": "code",
      "execution_count": null,
      "metadata": {
        "id": "upvr46RcqUGR",
        "outputId": "691c939e-c64f-4c47-c982-5271ce6cbf6d"
      },
      "outputs": [
        {
          "data": {
            "image/png": "[encoded data removed]",
            "text/plain": [
              "<Figure size 1000x800 with 10 Axes>"
            ]
          },
          "metadata": {},
          "output_type": "display_data"
        }
      ],
      "source": [
        "plt.figure(figsize=(10,8))\n",
        "for i in range(10):\n",
        "    plt.subplot(2,5,i+1)\n",
        "    plt.imshow(example_datas[i][0],cmap='BuPu')\n",
        "plt.show()"
      ]
    },
    {
      "cell_type": "markdown",
      "metadata": {
        "id": "SpxWKX2PqUGR"
      },
      "source": [
        "train"
      ]
    },
    {
      "cell_type": "code",
      "execution_count": null,
      "metadata": {
        "id": "3JXbRQUNqUGR",
        "outputId": "f3ee3a56-5ae2-4553-a59b-3d0dff7de9d6"
      },
      "outputs": [
        {
          "data": {
            "text/plain": [
              "torch.Size([100, 1, 28, 28])"
            ]
          },
          "execution_count": 8,
          "metadata": {},
          "output_type": "execute_result"
        }
      ],
      "source": [
        "_,(example_datas, labels) = next(enumerate(train_loader))\n",
        "example_datas.shape"
      ]
    },
    {
      "cell_type": "markdown",
      "metadata": {
        "id": "6j7bMZZQqUGS"
      },
      "source": [
        "# Design your Neural Network model"
      ]
    },
    {
      "cell_type": "code",
      "execution_count": null,
      "metadata": {
        "id": "YbXvQUWBqUGS"
      },
      "outputs": [],
      "source": [
        "class MNIST(nn.Module):\n",
        "        def __init__(self,input_size,hidden_size1,hidden_size2\n",
        "                       ,hidden_size3,hidden_size,output):\n",
        "                super(MNIST,self).__init__()\n",
        "                self.f_connected1=nn.Linear(input_size,hidden_size1)\n",
        "                self.f_connected2=nn.Linear(hidden_size1,hidden_size2)\n",
        "                self.f_connected3=nn.Linear(hidden_size2,hidden_size3)\n",
        "                self.f_connected4=nn.Linear(hidden_size3,hidden_size)\n",
        "                self.out_connected=nn.Linear(hidden_size,output)\n",
        "        def forward(self,x):\n",
        "                out=F.relu(self.f_connected1(x)) \n",
        "                out=F.relu(self.f_connected2(out))\n",
        "                out=F.relu(self.f_connected3(out))\n",
        "                out=F.relu(self.f_connected4(out))\n",
        "                out=self.out_connected(out)\n",
        "                return out"
      ]
    },
    {
      "cell_type": "markdown",
      "metadata": {
        "id": "TNeipR2bqUGS"
      },
      "source": [
        "# Setup your hyperparamter such as Loss Function, Optimizer, Learning Rate, etc"
      ]
    },
    {
      "cell_type": "markdown",
      "metadata": {
        "id": "rK7x7gDHqUGS"
      },
      "source": [
        "# 1. Loss Function CrossEntropyLoss"
      ]
    },
    {
      "cell_type": "code",
      "execution_count": null,
      "metadata": {
        "id": "AJ9JnSN9qUGS"
      },
      "outputs": [],
      "source": [
        "## create model and optimizer\n",
        "model_1 = MNIST(input_size,hidden_size1,hidden_size2\n",
        "                       ,hidden_size3,hidden_size,output)\n",
        "loss = nn.CrossEntropyLoss()\n",
        "learning_rate = 0.1\n",
        "momentum = 0.00003\n",
        "device = \"cpu\"\n",
        "optimizer = optim.SGD(model_1.parameters(), lr=learning_rate,\n",
        "                      momentum=momentum)"
      ]
    },
    {
      "cell_type": "code",
      "execution_count": null,
      "metadata": {
        "id": "yILg5D4HqUGS",
        "outputId": "a8f6a434-3c95-4cad-e12f-5672e0397488"
      },
      "outputs": [
        {
          "data": {
            "text/plain": [
              "<bound method Module.parameters of MNIST(\n",
              "  (f_connected1): Linear(in_features=784, out_features=200, bias=True)\n",
              "  (f_connected2): Linear(in_features=200, out_features=150, bias=True)\n",
              "  (f_connected3): Linear(in_features=150, out_features=100, bias=True)\n",
              "  (f_connected4): Linear(in_features=100, out_features=80, bias=True)\n",
              "  (out_connected): Linear(in_features=80, out_features=10, bias=True)\n",
              ")>"
            ]
          },
          "execution_count": 11,
          "metadata": {},
          "output_type": "execute_result"
        }
      ],
      "source": [
        "model_1.parameters"
      ]
    },
    {
      "cell_type": "markdown",
      "metadata": {
        "id": "r2ow1B--qUGT"
      },
      "source": [
        "# Develop a training loop and run training model\n"
      ]
    },
    {
      "cell_type": "code",
      "execution_count": null,
      "metadata": {
        "id": "dQtbctetqUGT",
        "outputId": "5a5415f3-cdec-4a1f-bedc-3598c473ff6d"
      },
      "outputs": [
        {
          "name": "stdout",
          "output_type": "stream",
          "text": [
            "epoch = 1/10,step = 100 / 600, loss=2.2844343185424805\n",
            "epoch = 1/10,step = 200 / 600, loss=1.7697703838348389\n",
            "epoch = 1/10,step = 300 / 600, loss=1.0721518993377686\n",
            "epoch = 1/10,step = 400 / 600, loss=0.5331020951271057\n",
            "epoch = 1/10,step = 500 / 600, loss=0.3618559241294861\n",
            "epoch = 1/10,step = 600 / 600, loss=0.3051614463329315\n",
            "epoch = 2/10,step = 100 / 600, loss=0.3381228744983673\n",
            "epoch = 2/10,step = 200 / 600, loss=0.32396915555000305\n",
            "epoch = 2/10,step = 300 / 600, loss=0.252672016620636\n",
            "epoch = 2/10,step = 400 / 600, loss=0.2384522259235382\n",
            "epoch = 2/10,step = 500 / 600, loss=0.07172219455242157\n",
            "epoch = 2/10,step = 600 / 600, loss=0.14541637897491455\n",
            "epoch = 3/10,step = 100 / 600, loss=0.12199241667985916\n",
            "epoch = 3/10,step = 200 / 600, loss=0.17821477353572845\n",
            "epoch = 3/10,step = 300 / 600, loss=0.07040245831012726\n",
            "epoch = 3/10,step = 400 / 600, loss=0.1255968064069748\n",
            "epoch = 3/10,step = 500 / 600, loss=0.15721462666988373\n",
            "epoch = 3/10,step = 600 / 600, loss=0.11662329733371735\n",
            "epoch = 4/10,step = 100 / 600, loss=0.19991466403007507\n",
            "epoch = 4/10,step = 200 / 600, loss=0.06225075572729111\n",
            "epoch = 4/10,step = 300 / 600, loss=0.042344145476818085\n",
            "epoch = 4/10,step = 400 / 600, loss=0.060673970729112625\n",
            "epoch = 4/10,step = 500 / 600, loss=0.08591260015964508\n",
            "epoch = 4/10,step = 600 / 600, loss=0.1801435500383377\n",
            "epoch = 5/10,step = 100 / 600, loss=0.018011407926678658\n",
            "epoch = 5/10,step = 200 / 600, loss=0.10496307164430618\n",
            "epoch = 5/10,step = 300 / 600, loss=0.10087212920188904\n",
            "epoch = 5/10,step = 400 / 600, loss=0.03143889456987381\n",
            "epoch = 5/10,step = 500 / 600, loss=0.04218212142586708\n",
            "epoch = 5/10,step = 600 / 600, loss=0.1854032725095749\n",
            "epoch = 6/10,step = 100 / 600, loss=0.0901012197136879\n",
            "epoch = 6/10,step = 200 / 600, loss=0.05550873652100563\n",
            "epoch = 6/10,step = 300 / 600, loss=0.07480940222740173\n",
            "epoch = 6/10,step = 400 / 600, loss=0.09784459322690964\n",
            "epoch = 6/10,step = 500 / 600, loss=0.06077752262353897\n",
            "epoch = 6/10,step = 600 / 600, loss=0.13745850324630737\n",
            "epoch = 7/10,step = 100 / 600, loss=0.02294936589896679\n",
            "epoch = 7/10,step = 200 / 600, loss=0.04313475266098976\n",
            "epoch = 7/10,step = 300 / 600, loss=0.10602834820747375\n",
            "epoch = 7/10,step = 400 / 600, loss=0.0678655132651329\n",
            "epoch = 7/10,step = 500 / 600, loss=0.011341425590217113\n",
            "epoch = 7/10,step = 600 / 600, loss=0.006510654464364052\n",
            "epoch = 8/10,step = 100 / 600, loss=0.0896117314696312\n",
            "epoch = 8/10,step = 200 / 600, loss=0.11547169089317322\n",
            "epoch = 8/10,step = 300 / 600, loss=0.033751748502254486\n",
            "epoch = 8/10,step = 400 / 600, loss=0.05391646549105644\n",
            "epoch = 8/10,step = 500 / 600, loss=0.08760350197553635\n",
            "epoch = 8/10,step = 600 / 600, loss=0.08446969836950302\n",
            "epoch = 9/10,step = 100 / 600, loss=0.038883186876773834\n",
            "epoch = 9/10,step = 200 / 600, loss=0.022366326302289963\n",
            "epoch = 9/10,step = 300 / 600, loss=0.11098170280456543\n",
            "epoch = 9/10,step = 400 / 600, loss=0.03616204112768173\n",
            "epoch = 9/10,step = 500 / 600, loss=0.05667228251695633\n",
            "epoch = 9/10,step = 600 / 600, loss=0.04558808356523514\n",
            "epoch = 10/10,step = 100 / 600, loss=0.005996399093419313\n",
            "epoch = 10/10,step = 200 / 600, loss=0.003475090255960822\n",
            "epoch = 10/10,step = 300 / 600, loss=0.02001878432929516\n",
            "epoch = 10/10,step = 400 / 600, loss=0.007173911202698946\n",
            "epoch = 10/10,step = 500 / 600, loss=0.017012545838952065\n",
            "epoch = 10/10,step = 600 / 600, loss=0.009841200895607471\n"
          ]
        }
      ],
      "source": [
        "num_epochs = 10\n",
        "for epoch in range(num_epochs):\n",
        "    for i, (images,labels) in enumerate(train_loader):\n",
        "        images = images.reshape(-1,28*28)\n",
        "        # forward pass\n",
        "        output = model_1(images)\n",
        "        Loss=loss(output,labels)\n",
        "        # backward pass\n",
        "        optimizer.zero_grad() # tidak kalkulasi gradient result setiap epoch\n",
        "        Loss.backward() # kalkulasi backward progation methode (estimasi loss function setiap weights)\n",
        "        optimizer.step() # update parameter setiap iterasi\n",
        "        \n",
        "        if (i+1) %100 ==0:\n",
        "            print(f\"epoch = {epoch+1}/{num_epochs},step = {i+1} / {len(train_loader)}, loss={Loss.item()}\")"
      ]
    },
    {
      "cell_type": "code",
      "execution_count": null,
      "metadata": {
        "id": "HWv4AyLnqUGT",
        "outputId": "881a5816-9e63-494e-c82a-ccfecb7dd36c"
      },
      "outputs": [
        {
          "data": {
            "text/plain": [
              "0.009841200895607471"
            ]
          },
          "execution_count": 13,
          "metadata": {},
          "output_type": "execute_result"
        }
      ],
      "source": [
        "Loss.item()"
      ]
    },
    {
      "cell_type": "markdown",
      "metadata": {
        "id": "98kD08nkqUGT"
      },
      "source": [
        "# Evaluate Model using several performance metrics suach as accuracy, confusion matrix, F1Score, Precision, Recall, etc"
      ]
    },
    {
      "cell_type": "code",
      "execution_count": null,
      "metadata": {
        "id": "39scwoU2qUGT"
      },
      "outputs": [],
      "source": [
        "from sklearn.metrics import classification_report\n",
        "from sklearn.metrics import accuracy_score\n",
        "from sklearn.metrics import confusion_matrix"
      ]
    },
    {
      "cell_type": "code",
      "execution_count": null,
      "metadata": {
        "id": "oNYNQYXmqUGT",
        "outputId": "0aaa9141-ab42-40cd-d55c-4f4b572a3588"
      },
      "outputs": [
        {
          "name": "stdout",
          "output_type": "stream",
          "text": [
            "Accuracy :  99.0\n",
            "Precision : 100.0\n",
            "Recall : 100.0\n",
            "F1 :  10000.0\n",
            "\n",
            "\n",
            "Confusion matriks : \n",
            "\n",
            " [[ 8  0  0  0  0  0  0  0  0  0]\n",
            " [ 0 19  0  0  0  0  0  0  0  0]\n",
            " [ 0  0  9  0  0  0  0  0  0  0]\n",
            " [ 0  0  0  5  0  0  0  0  0  0]\n",
            " [ 0  0  0  0 10  0  0  0  0  0]\n",
            " [ 0  0  0  0  0  5  0  0  1  0]\n",
            " [ 0  0  0  0  0  0 11  0  0  0]\n",
            " [ 0  0  0  0  0  0  0 12  0  0]\n",
            " [ 0  0  0  0  0  0  0  0  7  0]\n",
            " [ 0  0  0  0  0  0  0  0  0 13]] \n",
            "\n"
          ]
        }
      ],
      "source": [
        "with torch.no_grad():\n",
        "    n_correct=0\n",
        "    n_samples=0\n",
        "    for images,labels in test_loader:\n",
        "        images=images.reshape(-1,784)\n",
        "        output=model_1(images)\n",
        "        labels=labels\n",
        "        _,prediction=torch.max(output,1)\n",
        "        n_samples=labels.shape[0]\n",
        "        n_correct=(prediction==labels).sum().item()\n",
        "        cm = (confusion_matrix(labels, prediction)) \n",
        "    accuracy=(n_correct/n_samples)*100\n",
        "    precision = (cm[0][0]/((cm[1][0])+(cm[2][0])+(cm[0][0]))) *100\n",
        "    recall = (cm[1][1]/((cm[1][0])+(cm[1][1])+(cm[1][2]))) *100\n",
        "    f1 =(2 * ((precision * recall )/ (precision + recall))) *100\n",
        "    print(\"Accuracy : \",accuracy)\n",
        "    print(\"Precision :\", precision)\n",
        "    print(\"Recall :\",recall)\n",
        "    print(\"F1 : \",f1)\n",
        "    print(\"\\n\")\n",
        "    print(\"Confusion matriks : \\n\\n\",cm,\"\\n\")"
      ]
    },
    {
      "cell_type": "code",
      "execution_count": null,
      "metadata": {
        "id": "QHKrs12MqUGU",
        "outputId": "f9977aa7-014a-4799-d954-60897f2c442a"
      },
      "outputs": [
        {
          "name": "stdout",
          "output_type": "stream",
          "text": [
            "tensor([0, 3, 0, 3, 2, 0, 0, 0, 2, 9, 9, 7, 1, 1, 2, 8, 6, 2, 0, 7, 7, 6, 6, 6,\n",
            "        2, 0, 4, 3, 1, 1, 3, 8, 5, 1, 2, 7, 7, 8, 5, 4, 3, 8, 9, 5, 2, 8, 8, 1,\n",
            "        6, 7, 6, 7, 5, 4, 0, 2, 8, 4, 0, 9, 7, 0, 9, 7, 2, 6, 8, 9, 2, 5, 0, 3,\n",
            "        9, 5, 8, 0, 1, 3, 1, 5, 7, 2, 0, 2, 2, 5, 8, 6, 1, 7, 1, 6, 8, 3, 5, 6,\n",
            "        1, 2, 1, 8])\n"
          ]
        }
      ],
      "source": [
        "# predicted result\n",
        "predicted=[]\n",
        "with torch.no_grad():\n",
        "    n_correct=0\n",
        "    n_samples=0\n",
        "    for images,labels in test_loader:\n",
        "        images=images.reshape(-1,784)\n",
        "        output=model_1(images) #applying the model we have built\n",
        "        labels=labels\n",
        "        _,prediction=torch.max(output,1)\n",
        "        predicted.append(prediction)\n",
        "print(prediction)"
      ]
    },
    {
      "cell_type": "markdown",
      "metadata": {
        "id": "pjXrWMrbqUGU"
      },
      "source": [
        "# 2. Loss function NLLLoss()"
      ]
    },
    {
      "cell_type": "code",
      "execution_count": null,
      "metadata": {
        "id": "zmqfuORlqUGU"
      },
      "outputs": [],
      "source": [
        "## create model and optimizer\n",
        "loss = nn.NLLLoss()\n",
        "learning_rate = 0.1\n",
        "momentum = 0.00003\n",
        "device = \"cpu\"\n",
        "optimizer = optim.SGD(model_1.parameters(), lr=learning_rate,\n",
        "                      momentum=momentum)"
      ]
    },
    {
      "cell_type": "code",
      "execution_count": null,
      "metadata": {
        "id": "760ISgzuqUGU",
        "outputId": "9be4df91-968e-42f1-fc5e-c89fbfab08b2"
      },
      "outputs": [
        {
          "name": "stdout",
          "output_type": "stream",
          "text": [
            "epoch = 1/10,step = 100 / 600, loss=nan\n",
            "epoch = 1/10,step = 200 / 600, loss=nan\n",
            "epoch = 1/10,step = 300 / 600, loss=nan\n",
            "epoch = 1/10,step = 400 / 600, loss=nan\n",
            "epoch = 1/10,step = 500 / 600, loss=nan\n",
            "epoch = 1/10,step = 600 / 600, loss=nan\n",
            "epoch = 2/10,step = 100 / 600, loss=nan\n",
            "epoch = 2/10,step = 200 / 600, loss=nan\n",
            "epoch = 2/10,step = 300 / 600, loss=nan\n",
            "epoch = 2/10,step = 400 / 600, loss=nan\n",
            "epoch = 2/10,step = 500 / 600, loss=nan\n",
            "epoch = 2/10,step = 600 / 600, loss=nan\n",
            "epoch = 3/10,step = 100 / 600, loss=nan\n",
            "epoch = 3/10,step = 200 / 600, loss=nan\n",
            "epoch = 3/10,step = 300 / 600, loss=nan\n",
            "epoch = 3/10,step = 400 / 600, loss=nan\n",
            "epoch = 3/10,step = 500 / 600, loss=nan\n",
            "epoch = 3/10,step = 600 / 600, loss=nan\n",
            "epoch = 4/10,step = 100 / 600, loss=nan\n",
            "epoch = 4/10,step = 200 / 600, loss=nan\n",
            "epoch = 4/10,step = 300 / 600, loss=nan\n",
            "epoch = 4/10,step = 400 / 600, loss=nan\n",
            "epoch = 4/10,step = 500 / 600, loss=nan\n",
            "epoch = 4/10,step = 600 / 600, loss=nan\n",
            "epoch = 5/10,step = 100 / 600, loss=nan\n",
            "epoch = 5/10,step = 200 / 600, loss=nan\n",
            "epoch = 5/10,step = 300 / 600, loss=nan\n",
            "epoch = 5/10,step = 400 / 600, loss=nan\n",
            "epoch = 5/10,step = 500 / 600, loss=nan\n",
            "epoch = 5/10,step = 600 / 600, loss=nan\n",
            "epoch = 6/10,step = 100 / 600, loss=nan\n",
            "epoch = 6/10,step = 200 / 600, loss=nan\n",
            "epoch = 6/10,step = 300 / 600, loss=nan\n",
            "epoch = 6/10,step = 400 / 600, loss=nan\n",
            "epoch = 6/10,step = 500 / 600, loss=nan\n",
            "epoch = 6/10,step = 600 / 600, loss=nan\n",
            "epoch = 7/10,step = 100 / 600, loss=nan\n",
            "epoch = 7/10,step = 200 / 600, loss=nan\n",
            "epoch = 7/10,step = 300 / 600, loss=nan\n",
            "epoch = 7/10,step = 400 / 600, loss=nan\n",
            "epoch = 7/10,step = 500 / 600, loss=nan\n",
            "epoch = 7/10,step = 600 / 600, loss=nan\n",
            "epoch = 8/10,step = 100 / 600, loss=nan\n",
            "epoch = 8/10,step = 200 / 600, loss=nan\n",
            "epoch = 8/10,step = 300 / 600, loss=nan\n",
            "epoch = 8/10,step = 400 / 600, loss=nan\n",
            "epoch = 8/10,step = 500 / 600, loss=nan\n",
            "epoch = 8/10,step = 600 / 600, loss=nan\n",
            "epoch = 9/10,step = 100 / 600, loss=nan\n",
            "epoch = 9/10,step = 200 / 600, loss=nan\n",
            "epoch = 9/10,step = 300 / 600, loss=nan\n",
            "epoch = 9/10,step = 400 / 600, loss=nan\n",
            "epoch = 9/10,step = 500 / 600, loss=nan\n",
            "epoch = 9/10,step = 600 / 600, loss=nan\n",
            "epoch = 10/10,step = 100 / 600, loss=nan\n",
            "epoch = 10/10,step = 200 / 600, loss=nan\n",
            "epoch = 10/10,step = 300 / 600, loss=nan\n",
            "epoch = 10/10,step = 400 / 600, loss=nan\n",
            "epoch = 10/10,step = 500 / 600, loss=nan\n",
            "epoch = 10/10,step = 600 / 600, loss=nan\n"
          ]
        }
      ],
      "source": [
        "num_epochs = 10\n",
        "for epoch in range(num_epochs):\n",
        "    for i, (images,labels) in enumerate(train_loader):\n",
        "        images = images.reshape(-1,28*28)\n",
        "        # forward pass\n",
        "        output = model_1(images)\n",
        "        Loss=loss(output,labels)\n",
        "        # backward pass\n",
        "        optimizer.zero_grad() # tidak kalkulasi gradient result setiap epoch\n",
        "        Loss.backward() # kalkulasi backward progation methode (estimasi loss function setiap weights)\n",
        "        optimizer.step() # update parameter setiap iterasi\n",
        "        \n",
        "        if (i+1) %100 ==0:\n",
        "            print(f\"epoch = {epoch+1}/{num_epochs},step = {i+1} / {len(train_loader)}, loss={Loss.item()}\")"
      ]
    },
    {
      "cell_type": "code",
      "execution_count": null,
      "metadata": {
        "id": "cv_rH9ZzqUGV"
      },
      "outputs": [],
      "source": [
        "from sklearn.metrics import accuracy_score\n",
        "from sklearn.metrics import confusion_matrix\n",
        "from sklearn.metrics import precision_score\n",
        "from sklearn.metrics import recall_score\n",
        "from sklearn.metrics import f1_score"
      ]
    },
    {
      "cell_type": "code",
      "execution_count": null,
      "metadata": {
        "id": "tgRAirO2qUGV",
        "outputId": "c95a4c83-569b-4df7-ef9b-aafc1497b976"
      },
      "outputs": [
        {
          "name": "stdout",
          "output_type": "stream",
          "text": [
            "Accuracy :  14.000000000000002\n",
            "Precision : 1.9600000000000002\n",
            "Recall : 14.000000000000002\n",
            "F1 :  3.43859649122807\n",
            "\n",
            "\n",
            "Confusion matriks : \n",
            "\n",
            " [[14  0  0  0  0  0  0  0  0  0]\n",
            " [ 9  0  0  0  0  0  0  0  0  0]\n",
            " [14  0  0  0  0  0  0  0  0  0]\n",
            " [12  0  0  0  0  0  0  0  0  0]\n",
            " [13  0  0  0  0  0  0  0  0  0]\n",
            " [ 8  0  0  0  0  0  0  0  0  0]\n",
            " [ 4  0  0  0  0  0  0  0  0  0]\n",
            " [11  0  0  0  0  0  0  0  0  0]\n",
            " [ 7  0  0  0  0  0  0  0  0  0]\n",
            " [ 8  0  0  0  0  0  0  0  0  0]] \n",
            "\n"
          ]
        },
        {
          "name": "stderr",
          "output_type": "stream",
          "text": [
            "d:\\MBKM\\Start up campus\\ML\\env\\lib\\site-packages\\sklearn\\metrics\\_classification.py:1334: UndefinedMetricWarning: Precision is ill-defined and being set to 0.0 in labels with no predicted samples. Use `zero_division` parameter to control this behavior.\n",
            "  _warn_prf(average, modifier, msg_start, len(result))\n"
          ]
        }
      ],
      "source": [
        "with torch.no_grad():\n",
        "    n_correct=0\n",
        "    n_samples=0\n",
        "    for images,labels in test_loader:\n",
        "        images=images.reshape(-1,784)\n",
        "        output=model_1(images)\n",
        "        labels=labels\n",
        "        _,prediction=torch.max(output,1)\n",
        "        n_samples=labels.shape[0]\n",
        "        n_correct=(prediction==labels).sum().item()\n",
        "        cm = (confusion_matrix(labels, prediction)) \n",
        "    accuracy=(n_correct/n_samples)*100\n",
        "    precision = (cm[0][0]/((cm[1][0])+(cm[2][0])+(cm[0][0]))) *100\n",
        "    recall = (cm[1][1]/((cm[1][0])+(cm[1][1])+(cm[1][2]))) *100\n",
        "    f1 =(2 * ((precision * recall )/ (precision + recall))) *100\n",
        "    print(\"Accuracy : \",accuracy)\n",
        "    print(\"Precision :\", precision_score(labels,prediction,average=\"weighted\")*100) \n",
        "    print(\"Recall :\",recall_score(labels,prediction,average=\"weighted\")*100) \n",
        "    print(\"F1 : \",f1_score(labels,prediction,average=\"weighted\")*100) \n",
        "    print(\"\\n\")\n",
        "    print(\"Confusion matriks : \\n\\n\",cm,\"\\n\")"
      ]
    },
    {
      "cell_type": "code",
      "execution_count": null,
      "metadata": {
        "id": "blQ7B_-OqUGV"
      },
      "outputs": [],
      "source": [
        "# Define our loss function\n",
        "loss= nn.MultiMarginLoss()\n",
        "# Define the optimier\n",
        "learning_rate = 0.1\n",
        "momentum = 0.00003\n",
        "device = \"cpu\"\n",
        "optimizer = optim.SGD(model_1.parameters(), lr=learning_rate,\n",
        "                      momentum=momentum)"
      ]
    },
    {
      "cell_type": "code",
      "execution_count": null,
      "metadata": {
        "id": "0_1KMWC6qUGV",
        "outputId": "fd8125ff-a6b9-4a14-c9ce-ca44ca433bed"
      },
      "outputs": [
        {
          "name": "stdout",
          "output_type": "stream",
          "text": [
            "epoch = 1/10,step = 100 / 600, loss=0.0\n",
            "epoch = 1/10,step = 200 / 600, loss=0.0\n",
            "epoch = 1/10,step = 300 / 600, loss=0.0\n",
            "epoch = 1/10,step = 400 / 600, loss=0.0\n",
            "epoch = 1/10,step = 500 / 600, loss=0.0\n",
            "epoch = 1/10,step = 600 / 600, loss=0.0\n",
            "epoch = 2/10,step = 100 / 600, loss=0.0\n",
            "epoch = 2/10,step = 200 / 600, loss=0.0\n",
            "epoch = 2/10,step = 300 / 600, loss=0.0\n",
            "epoch = 2/10,step = 400 / 600, loss=0.0\n",
            "epoch = 2/10,step = 500 / 600, loss=0.0\n",
            "epoch = 2/10,step = 600 / 600, loss=0.0\n",
            "epoch = 3/10,step = 100 / 600, loss=0.0\n",
            "epoch = 3/10,step = 200 / 600, loss=0.0\n",
            "epoch = 3/10,step = 300 / 600, loss=0.0\n",
            "epoch = 3/10,step = 400 / 600, loss=0.0\n",
            "epoch = 3/10,step = 500 / 600, loss=0.0\n",
            "epoch = 3/10,step = 600 / 600, loss=0.0\n",
            "epoch = 4/10,step = 100 / 600, loss=0.0\n",
            "epoch = 4/10,step = 200 / 600, loss=0.0\n",
            "epoch = 4/10,step = 300 / 600, loss=0.0\n",
            "epoch = 4/10,step = 400 / 600, loss=0.0\n",
            "epoch = 4/10,step = 500 / 600, loss=0.0\n",
            "epoch = 4/10,step = 600 / 600, loss=0.0\n",
            "epoch = 5/10,step = 100 / 600, loss=0.0\n",
            "epoch = 5/10,step = 200 / 600, loss=0.0\n",
            "epoch = 5/10,step = 300 / 600, loss=0.0\n",
            "epoch = 5/10,step = 400 / 600, loss=0.0\n",
            "epoch = 5/10,step = 500 / 600, loss=0.0\n",
            "epoch = 5/10,step = 600 / 600, loss=0.0\n",
            "epoch = 6/10,step = 100 / 600, loss=0.0\n",
            "epoch = 6/10,step = 200 / 600, loss=0.0\n",
            "epoch = 6/10,step = 300 / 600, loss=0.0\n",
            "epoch = 6/10,step = 400 / 600, loss=0.0\n",
            "epoch = 6/10,step = 500 / 600, loss=0.0\n",
            "epoch = 6/10,step = 600 / 600, loss=0.0\n",
            "epoch = 7/10,step = 100 / 600, loss=0.0\n",
            "epoch = 7/10,step = 200 / 600, loss=0.0\n",
            "epoch = 7/10,step = 300 / 600, loss=0.0\n",
            "epoch = 7/10,step = 400 / 600, loss=0.0\n",
            "epoch = 7/10,step = 500 / 600, loss=0.0\n",
            "epoch = 7/10,step = 600 / 600, loss=0.0\n",
            "epoch = 8/10,step = 100 / 600, loss=0.0\n",
            "epoch = 8/10,step = 200 / 600, loss=0.0\n",
            "epoch = 8/10,step = 300 / 600, loss=0.0\n",
            "epoch = 8/10,step = 400 / 600, loss=0.0\n",
            "epoch = 8/10,step = 500 / 600, loss=0.0\n",
            "epoch = 8/10,step = 600 / 600, loss=0.0\n",
            "epoch = 9/10,step = 100 / 600, loss=0.0\n",
            "epoch = 9/10,step = 200 / 600, loss=0.0\n",
            "epoch = 9/10,step = 300 / 600, loss=0.0\n",
            "epoch = 9/10,step = 400 / 600, loss=0.0\n",
            "epoch = 9/10,step = 500 / 600, loss=0.0\n",
            "epoch = 9/10,step = 600 / 600, loss=0.0\n",
            "epoch = 10/10,step = 100 / 600, loss=0.0\n",
            "epoch = 10/10,step = 200 / 600, loss=0.0\n",
            "epoch = 10/10,step = 300 / 600, loss=0.0\n",
            "epoch = 10/10,step = 400 / 600, loss=0.0\n",
            "epoch = 10/10,step = 500 / 600, loss=0.0\n",
            "epoch = 10/10,step = 600 / 600, loss=0.0\n"
          ]
        }
      ],
      "source": [
        "num_epochs = 10\n",
        "for epoch in range(num_epochs):\n",
        "    for i, (images,labels) in enumerate(train_loader):\n",
        "        images = images.reshape(-1,28*28)\n",
        "        # forward pass\n",
        "        output = model_1(images)\n",
        "        Loss=loss(output,labels)\n",
        "        # backward pass\n",
        "        optimizer.zero_grad() # tidak kalkulasi gradient result setiap epoch\n",
        "        Loss.backward() # kalkulasi backward progation methode (estimasi loss function setiap weights)\n",
        "        optimizer.step() # update parameter setiap iterasi\n",
        "        \n",
        "        if (i+1) %100 ==0:\n",
        "            print(f\"epoch = {epoch+1}/{num_epochs},step = {i+1} / {len(train_loader)}, loss={Loss.item()}\")"
      ]
    },
    {
      "cell_type": "markdown",
      "metadata": {
        "id": "ArBFNWOWqUGV"
      },
      "source": [
        "from sklearn.metrics import accuracy_score\n",
        "from sklearn.metrics import confusion_matrix"
      ]
    },
    {
      "cell_type": "code",
      "execution_count": null,
      "metadata": {
        "id": "AsTYmavLqUGV",
        "outputId": "3b039c77-f2b0-4871-e6fa-d3ae08730208"
      },
      "outputs": [
        {
          "name": "stdout",
          "output_type": "stream",
          "text": [
            "Accuracy :  5.0\n",
            "Precision : 0.25\n",
            "Recall : 5.0\n",
            "F1 :  0.47619047619047616\n",
            "\n",
            "\n",
            "Confusion matriks : \n",
            "\n",
            " [[ 5  0  0  0  0  0  0  0  0  0]\n",
            " [10  0  0  0  0  0  0  0  0  0]\n",
            " [15  0  0  0  0  0  0  0  0  0]\n",
            " [ 7  0  0  0  0  0  0  0  0  0]\n",
            " [17  0  0  0  0  0  0  0  0  0]\n",
            " [ 8  0  0  0  0  0  0  0  0  0]\n",
            " [ 9  0  0  0  0  0  0  0  0  0]\n",
            " [ 9  0  0  0  0  0  0  0  0  0]\n",
            " [12  0  0  0  0  0  0  0  0  0]\n",
            " [ 8  0  0  0  0  0  0  0  0  0]] \n",
            "\n"
          ]
        },
        {
          "name": "stderr",
          "output_type": "stream",
          "text": [
            "d:\\MBKM\\Start up campus\\ML\\env\\lib\\site-packages\\sklearn\\metrics\\_classification.py:1334: UndefinedMetricWarning: Precision is ill-defined and being set to 0.0 in labels with no predicted samples. Use `zero_division` parameter to control this behavior.\n",
            "  _warn_prf(average, modifier, msg_start, len(result))\n"
          ]
        }
      ],
      "source": [
        "with torch.no_grad():\n",
        "    n_correct=0\n",
        "    n_samples=0\n",
        "    for images,labels in test_loader:\n",
        "        images=images.reshape(-1,784)\n",
        "        output=model_1(images)\n",
        "        labels=labels\n",
        "        _,prediction=torch.max(output,1)\n",
        "        n_samples=labels.shape[0]\n",
        "        n_correct=(prediction==labels).sum().item()\n",
        "        cm = (confusion_matrix(labels, prediction)) \n",
        "    accuracy=(n_correct/n_samples)*100\n",
        "    precision = (cm[0][0]/((cm[1][0])+(cm[2][0])+(cm[0][0]))) *100\n",
        "    recall = (cm[1][1]/((cm[1][0])+(cm[1][1])+(cm[1][2]))) *100\n",
        "    f1 =(2 * ((precision * recall )/ (precision + recall))) *100\n",
        "    print(\"Accuracy : \",accuracy)\n",
        "    print(\"Precision :\", precision_score(labels,prediction,average=\"weighted\")*100) \n",
        "    print(\"Recall :\",recall_score(labels,prediction,average=\"weighted\")*100) \n",
        "    print(\"F1 : \",f1_score(labels,prediction,average=\"weighted\")*100) \n",
        "    print(\"\\n\")\n",
        "    print(\"Confusion matriks : \\n\\n\",cm,\"\\n\")"
      ]
    },
    {
      "cell_type": "markdown",
      "metadata": {
        "id": "Teja7wnAqUGW"
      },
      "source": [
        "Pada hasil perbandingan loss function yang digunakan yang mana menghasilkan sebuah hasil terbaik dari ketiga proses yakni menggunakan cross entropy dengan hasil akurasi adalah 99%, precision 100% dan recal 100% dibandingkan dengan menggunakan NLLoss dan MultiMarginLoss yang seharusnya tidak cocok untuk loss function dalam kasus multiClassification"
      ]
    }
  ],
  "metadata": {
    "kernelspec": {
      "display_name": "Python 3.9.9 ('env': venv)",
      "language": "python",
      "name": "python3"
    },
    "language_info": {
      "codemirror_mode": {
        "name": "ipython",
        "version": 3
      },
      "file_extension": ".py",
      "mimetype": "text/x-python",
      "name": "python",
      "nbconvert_exporter": "python",
      "pygments_lexer": "ipython3",
      "version": "3.9.9"
    },
    "orig_nbformat": 4,
    "vscode": {
      "interpreter": {
        "hash": "0837c77c54ecb94274f0648a9398a76eabec8ed361046e024ffc59a336441efe"
      }
    },
    "colab": {
      "provenance": []
    }
  },
  "nbformat": 4,
  "nbformat_minor": 0
}